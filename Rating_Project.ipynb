{
 "cells": [
  {
   "cell_type": "code",
   "execution_count": 12,
   "id": "d94f2c4d",
   "metadata": {},
   "outputs": [],
   "source": [
    "import sqlite3\n",
    "import pandas as pd\n",
    "import numpy as np\n",
    "from sklearn.tree import DecisionTreeRegressor \n",
    "from sklearn.linear_model import LinearRegression \n",
    "from sklearn.model_selection import train_test_split\n",
    "from sklearn.metrics import mean_squared_error \n",
    "from math import sqrt\n",
    "from datetime import datetime"
   ]
  },
  {
   "cell_type": "code",
   "execution_count": 13,
   "id": "96758c86",
   "metadata": {},
   "outputs": [
    {
     "data": {
      "text/html": [
       "<div>\n",
       "<style scoped>\n",
       "    .dataframe tbody tr th:only-of-type {\n",
       "        vertical-align: middle;\n",
       "    }\n",
       "\n",
       "    .dataframe tbody tr th {\n",
       "        vertical-align: top;\n",
       "    }\n",
       "\n",
       "    .dataframe thead th {\n",
       "        text-align: right;\n",
       "    }\n",
       "</style>\n",
       "<table border=\"1\" class=\"dataframe\">\n",
       "  <thead>\n",
       "    <tr style=\"text-align: right;\">\n",
       "      <th></th>\n",
       "      <th>id</th>\n",
       "      <th>player_fifa_api_id</th>\n",
       "      <th>player_api_id</th>\n",
       "      <th>date</th>\n",
       "      <th>overall_rating</th>\n",
       "      <th>potential</th>\n",
       "      <th>preferred_foot</th>\n",
       "      <th>attacking_work_rate</th>\n",
       "      <th>defensive_work_rate</th>\n",
       "      <th>crossing</th>\n",
       "      <th>...</th>\n",
       "      <th>vision</th>\n",
       "      <th>penalties</th>\n",
       "      <th>marking</th>\n",
       "      <th>standing_tackle</th>\n",
       "      <th>sliding_tackle</th>\n",
       "      <th>gk_diving</th>\n",
       "      <th>gk_handling</th>\n",
       "      <th>gk_kicking</th>\n",
       "      <th>gk_positioning</th>\n",
       "      <th>gk_reflexes</th>\n",
       "    </tr>\n",
       "  </thead>\n",
       "  <tbody>\n",
       "    <tr>\n",
       "      <th>0</th>\n",
       "      <td>1</td>\n",
       "      <td>218353</td>\n",
       "      <td>505942</td>\n",
       "      <td>2016-02-18 00:00:00</td>\n",
       "      <td>67.0</td>\n",
       "      <td>71.0</td>\n",
       "      <td>right</td>\n",
       "      <td>medium</td>\n",
       "      <td>medium</td>\n",
       "      <td>49.0</td>\n",
       "      <td>...</td>\n",
       "      <td>54.0</td>\n",
       "      <td>48.0</td>\n",
       "      <td>65.0</td>\n",
       "      <td>69.0</td>\n",
       "      <td>69.0</td>\n",
       "      <td>6.0</td>\n",
       "      <td>11.0</td>\n",
       "      <td>10.0</td>\n",
       "      <td>8.0</td>\n",
       "      <td>8.0</td>\n",
       "    </tr>\n",
       "    <tr>\n",
       "      <th>1</th>\n",
       "      <td>2</td>\n",
       "      <td>218353</td>\n",
       "      <td>505942</td>\n",
       "      <td>2015-11-19 00:00:00</td>\n",
       "      <td>67.0</td>\n",
       "      <td>71.0</td>\n",
       "      <td>right</td>\n",
       "      <td>medium</td>\n",
       "      <td>medium</td>\n",
       "      <td>49.0</td>\n",
       "      <td>...</td>\n",
       "      <td>54.0</td>\n",
       "      <td>48.0</td>\n",
       "      <td>65.0</td>\n",
       "      <td>69.0</td>\n",
       "      <td>69.0</td>\n",
       "      <td>6.0</td>\n",
       "      <td>11.0</td>\n",
       "      <td>10.0</td>\n",
       "      <td>8.0</td>\n",
       "      <td>8.0</td>\n",
       "    </tr>\n",
       "    <tr>\n",
       "      <th>2</th>\n",
       "      <td>3</td>\n",
       "      <td>218353</td>\n",
       "      <td>505942</td>\n",
       "      <td>2015-09-21 00:00:00</td>\n",
       "      <td>62.0</td>\n",
       "      <td>66.0</td>\n",
       "      <td>right</td>\n",
       "      <td>medium</td>\n",
       "      <td>medium</td>\n",
       "      <td>49.0</td>\n",
       "      <td>...</td>\n",
       "      <td>54.0</td>\n",
       "      <td>48.0</td>\n",
       "      <td>65.0</td>\n",
       "      <td>66.0</td>\n",
       "      <td>69.0</td>\n",
       "      <td>6.0</td>\n",
       "      <td>11.0</td>\n",
       "      <td>10.0</td>\n",
       "      <td>8.0</td>\n",
       "      <td>8.0</td>\n",
       "    </tr>\n",
       "    <tr>\n",
       "      <th>3</th>\n",
       "      <td>4</td>\n",
       "      <td>218353</td>\n",
       "      <td>505942</td>\n",
       "      <td>2015-03-20 00:00:00</td>\n",
       "      <td>61.0</td>\n",
       "      <td>65.0</td>\n",
       "      <td>right</td>\n",
       "      <td>medium</td>\n",
       "      <td>medium</td>\n",
       "      <td>48.0</td>\n",
       "      <td>...</td>\n",
       "      <td>53.0</td>\n",
       "      <td>47.0</td>\n",
       "      <td>62.0</td>\n",
       "      <td>63.0</td>\n",
       "      <td>66.0</td>\n",
       "      <td>5.0</td>\n",
       "      <td>10.0</td>\n",
       "      <td>9.0</td>\n",
       "      <td>7.0</td>\n",
       "      <td>7.0</td>\n",
       "    </tr>\n",
       "    <tr>\n",
       "      <th>4</th>\n",
       "      <td>5</td>\n",
       "      <td>218353</td>\n",
       "      <td>505942</td>\n",
       "      <td>2007-02-22 00:00:00</td>\n",
       "      <td>61.0</td>\n",
       "      <td>65.0</td>\n",
       "      <td>right</td>\n",
       "      <td>medium</td>\n",
       "      <td>medium</td>\n",
       "      <td>48.0</td>\n",
       "      <td>...</td>\n",
       "      <td>53.0</td>\n",
       "      <td>47.0</td>\n",
       "      <td>62.0</td>\n",
       "      <td>63.0</td>\n",
       "      <td>66.0</td>\n",
       "      <td>5.0</td>\n",
       "      <td>10.0</td>\n",
       "      <td>9.0</td>\n",
       "      <td>7.0</td>\n",
       "      <td>7.0</td>\n",
       "    </tr>\n",
       "  </tbody>\n",
       "</table>\n",
       "<p>5 rows × 42 columns</p>\n",
       "</div>"
      ],
      "text/plain": [
       "   id  player_fifa_api_id  player_api_id                 date  overall_rating  \\\n",
       "0   1              218353         505942  2016-02-18 00:00:00            67.0   \n",
       "1   2              218353         505942  2015-11-19 00:00:00            67.0   \n",
       "2   3              218353         505942  2015-09-21 00:00:00            62.0   \n",
       "3   4              218353         505942  2015-03-20 00:00:00            61.0   \n",
       "4   5              218353         505942  2007-02-22 00:00:00            61.0   \n",
       "\n",
       "   potential preferred_foot attacking_work_rate defensive_work_rate  crossing  \\\n",
       "0       71.0          right              medium              medium      49.0   \n",
       "1       71.0          right              medium              medium      49.0   \n",
       "2       66.0          right              medium              medium      49.0   \n",
       "3       65.0          right              medium              medium      48.0   \n",
       "4       65.0          right              medium              medium      48.0   \n",
       "\n",
       "   ...  vision  penalties  marking  standing_tackle  sliding_tackle  \\\n",
       "0  ...    54.0       48.0     65.0             69.0            69.0   \n",
       "1  ...    54.0       48.0     65.0             69.0            69.0   \n",
       "2  ...    54.0       48.0     65.0             66.0            69.0   \n",
       "3  ...    53.0       47.0     62.0             63.0            66.0   \n",
       "4  ...    53.0       47.0     62.0             63.0            66.0   \n",
       "\n",
       "   gk_diving  gk_handling  gk_kicking  gk_positioning  gk_reflexes  \n",
       "0        6.0         11.0        10.0             8.0          8.0  \n",
       "1        6.0         11.0        10.0             8.0          8.0  \n",
       "2        6.0         11.0        10.0             8.0          8.0  \n",
       "3        5.0         10.0         9.0             7.0          7.0  \n",
       "4        5.0         10.0         9.0             7.0          7.0  \n",
       "\n",
       "[5 rows x 42 columns]"
      ]
     },
     "execution_count": 13,
     "metadata": {},
     "output_type": "execute_result"
    }
   ],
   "source": [
    "cnx = sqlite3.connect(r'C:\\Users\\HP\\Desktop\\pml\\data\\database.sqlite')\n",
    "player_data = pd.read_sql_query(\"SELECT * FROM Player_Attributes\", cnx)\n",
    "player_data.head()"
   ]
  },
  {
   "cell_type": "code",
   "execution_count": 14,
   "id": "2905548e",
   "metadata": {},
   "outputs": [],
   "source": [
    "categorical_attributes = ['preferred_foot', 'attacking_work_rate', 'defensive_work_rate']\n",
    "\n",
    "numercial_attributes = ['potential', 'crossing', 'finishing', 'heading_accuracy',\n",
    "       'short_passing', 'volleys', 'dribbling', 'curve', 'free_kick_accuracy',\n",
    "       'long_passing', 'ball_control', 'acceleration', 'sprint_speed',\n",
    "       'agility', 'reactions', 'balance', 'shot_power', 'jumping', 'stamina',\n",
    "       'strength', 'long_shots', 'aggression', 'interceptions', 'positioning',\n",
    "       'vision', 'penalties', 'marking', 'standing_tackle', 'sliding_tackle',\n",
    "       'gk_diving', 'gk_handling', 'gk_kicking', 'gk_positioning',\n",
    "       'gk_reflexes']\n",
    "\n",
    "target_attribute = ['overall_rating']"
   ]
  },
  {
   "cell_type": "code",
   "execution_count": 15,
   "id": "c2c7733e",
   "metadata": {},
   "outputs": [
    {
     "data": {
      "text/plain": [
       "(183978, 42)"
      ]
     },
     "execution_count": 15,
     "metadata": {},
     "output_type": "execute_result"
    }
   ],
   "source": [
    "player_data.shape"
   ]
  },
  {
   "cell_type": "code",
   "execution_count": 16,
   "id": "d7cb71a3",
   "metadata": {},
   "outputs": [],
   "source": [
    "player_data.dropna(thresh=5, inplace=True)"
   ]
  },
  {
   "cell_type": "code",
   "execution_count": 17,
   "id": "fd3380a4",
   "metadata": {},
   "outputs": [
    {
     "data": {
      "text/plain": [
       "(183142, 42)"
      ]
     },
     "execution_count": 17,
     "metadata": {},
     "output_type": "execute_result"
    }
   ],
   "source": [
    "player_data.shape"
   ]
  },
  {
   "cell_type": "code",
   "execution_count": 18,
   "id": "3b7286b1",
   "metadata": {},
   "outputs": [],
   "source": [
    "def generate_file_name(filename):\n",
    "    now = datetime.now()\n",
    "    current = now.strftime(\"%d_%m_%Y-%H_%M_%S\")\n",
    "    \n",
    "    return now.strftime(\"%d_%m_%Y-%H_%M_%S\") + '_' + filename "
   ]
  },
  {
   "cell_type": "code",
   "execution_count": 21,
   "id": "d61dadd5",
   "metadata": {},
   "outputs": [],
   "source": [
    "from Clean_and_Merge import Clean_and_Merge\n",
    "\n",
    "custom_attribute_object = Clean_and_Merge()\n",
    "\n",
    "merged_player_data = custom_attribute_object.fit_transform(player_data)\n"
   ]
  },
  {
   "cell_type": "code",
   "execution_count": 22,
   "id": "56979fd3",
   "metadata": {},
   "outputs": [
    {
     "data": {
      "text/html": [
       "<div>\n",
       "<style scoped>\n",
       "    .dataframe tbody tr th:only-of-type {\n",
       "        vertical-align: middle;\n",
       "    }\n",
       "\n",
       "    .dataframe tbody tr th {\n",
       "        vertical-align: top;\n",
       "    }\n",
       "\n",
       "    .dataframe thead th {\n",
       "        text-align: right;\n",
       "    }\n",
       "</style>\n",
       "<table border=\"1\" class=\"dataframe\">\n",
       "  <thead>\n",
       "    <tr style=\"text-align: right;\">\n",
       "      <th></th>\n",
       "      <th>potential</th>\n",
       "      <th>crossing</th>\n",
       "      <th>finishing</th>\n",
       "      <th>heading_accuracy</th>\n",
       "      <th>short_passing</th>\n",
       "      <th>volleys</th>\n",
       "      <th>dribbling</th>\n",
       "      <th>curve</th>\n",
       "      <th>free_kick_accuracy</th>\n",
       "      <th>long_passing</th>\n",
       "      <th>...</th>\n",
       "      <th>standing_tackle</th>\n",
       "      <th>sliding_tackle</th>\n",
       "      <th>gk_diving</th>\n",
       "      <th>gk_handling</th>\n",
       "      <th>gk_kicking</th>\n",
       "      <th>gk_positioning</th>\n",
       "      <th>gk_reflexes</th>\n",
       "      <th>preferred_foot</th>\n",
       "      <th>attacking_work_rate</th>\n",
       "      <th>defensive_work_rate</th>\n",
       "    </tr>\n",
       "  </thead>\n",
       "  <tbody>\n",
       "    <tr>\n",
       "      <th>0</th>\n",
       "      <td>67.600000</td>\n",
       "      <td>48.600000</td>\n",
       "      <td>43.600000</td>\n",
       "      <td>70.600000</td>\n",
       "      <td>60.600000</td>\n",
       "      <td>43.600000</td>\n",
       "      <td>50.600000</td>\n",
       "      <td>44.600000</td>\n",
       "      <td>38.600000</td>\n",
       "      <td>63.600000</td>\n",
       "      <td>...</td>\n",
       "      <td>66.000000</td>\n",
       "      <td>67.800000</td>\n",
       "      <td>5.600000</td>\n",
       "      <td>10.600000</td>\n",
       "      <td>9.600000</td>\n",
       "      <td>7.600000</td>\n",
       "      <td>7.600000</td>\n",
       "      <td>right</td>\n",
       "      <td>medium</td>\n",
       "      <td>medium</td>\n",
       "    </tr>\n",
       "    <tr>\n",
       "      <th>1</th>\n",
       "      <td>74.484848</td>\n",
       "      <td>70.787879</td>\n",
       "      <td>49.454545</td>\n",
       "      <td>52.939394</td>\n",
       "      <td>62.272727</td>\n",
       "      <td>29.151515</td>\n",
       "      <td>61.090909</td>\n",
       "      <td>61.878788</td>\n",
       "      <td>62.121212</td>\n",
       "      <td>63.242424</td>\n",
       "      <td>...</td>\n",
       "      <td>68.787879</td>\n",
       "      <td>71.515152</td>\n",
       "      <td>12.181818</td>\n",
       "      <td>8.666667</td>\n",
       "      <td>14.242424</td>\n",
       "      <td>10.363636</td>\n",
       "      <td>12.909091</td>\n",
       "      <td>left</td>\n",
       "      <td>medium</td>\n",
       "      <td>medium</td>\n",
       "    </tr>\n",
       "    <tr>\n",
       "      <th>2</th>\n",
       "      <td>74.192308</td>\n",
       "      <td>68.115385</td>\n",
       "      <td>57.923077</td>\n",
       "      <td>58.692308</td>\n",
       "      <td>65.115385</td>\n",
       "      <td>54.269231</td>\n",
       "      <td>69.038462</td>\n",
       "      <td>60.192308</td>\n",
       "      <td>55.615385</td>\n",
       "      <td>60.461538</td>\n",
       "      <td>...</td>\n",
       "      <td>21.115385</td>\n",
       "      <td>21.346154</td>\n",
       "      <td>14.038462</td>\n",
       "      <td>11.807692</td>\n",
       "      <td>17.730769</td>\n",
       "      <td>10.115385</td>\n",
       "      <td>13.500000</td>\n",
       "      <td>right</td>\n",
       "      <td>medium</td>\n",
       "      <td>medium</td>\n",
       "    </tr>\n",
       "    <tr>\n",
       "      <th>3</th>\n",
       "      <td>70.782609</td>\n",
       "      <td>57.217391</td>\n",
       "      <td>26.260870</td>\n",
       "      <td>69.260870</td>\n",
       "      <td>64.695652</td>\n",
       "      <td>47.782609</td>\n",
       "      <td>55.565217</td>\n",
       "      <td>37.782609</td>\n",
       "      <td>40.391304</td>\n",
       "      <td>60.826087</td>\n",
       "      <td>...</td>\n",
       "      <td>70.652174</td>\n",
       "      <td>68.043478</td>\n",
       "      <td>14.173913</td>\n",
       "      <td>11.173913</td>\n",
       "      <td>22.869565</td>\n",
       "      <td>11.173913</td>\n",
       "      <td>10.173913</td>\n",
       "      <td>right</td>\n",
       "      <td>medium</td>\n",
       "      <td>medium</td>\n",
       "    </tr>\n",
       "    <tr>\n",
       "      <th>4</th>\n",
       "      <td>74.680000</td>\n",
       "      <td>45.080000</td>\n",
       "      <td>38.840000</td>\n",
       "      <td>73.040000</td>\n",
       "      <td>64.760000</td>\n",
       "      <td>32.080000</td>\n",
       "      <td>50.600000</td>\n",
       "      <td>45.480000</td>\n",
       "      <td>26.360000</td>\n",
       "      <td>56.840000</td>\n",
       "      <td>...</td>\n",
       "      <td>76.040000</td>\n",
       "      <td>74.600000</td>\n",
       "      <td>8.280000</td>\n",
       "      <td>8.320000</td>\n",
       "      <td>24.920000</td>\n",
       "      <td>12.840000</td>\n",
       "      <td>11.920000</td>\n",
       "      <td>right</td>\n",
       "      <td>medium</td>\n",
       "      <td>medium</td>\n",
       "    </tr>\n",
       "  </tbody>\n",
       "</table>\n",
       "<p>5 rows × 37 columns</p>\n",
       "</div>"
      ],
      "text/plain": [
       "   potential   crossing  finishing  heading_accuracy  short_passing  \\\n",
       "0  67.600000  48.600000  43.600000         70.600000      60.600000   \n",
       "1  74.484848  70.787879  49.454545         52.939394      62.272727   \n",
       "2  74.192308  68.115385  57.923077         58.692308      65.115385   \n",
       "3  70.782609  57.217391  26.260870         69.260870      64.695652   \n",
       "4  74.680000  45.080000  38.840000         73.040000      64.760000   \n",
       "\n",
       "     volleys  dribbling      curve  free_kick_accuracy  long_passing  ...  \\\n",
       "0  43.600000  50.600000  44.600000           38.600000     63.600000  ...   \n",
       "1  29.151515  61.090909  61.878788           62.121212     63.242424  ...   \n",
       "2  54.269231  69.038462  60.192308           55.615385     60.461538  ...   \n",
       "3  47.782609  55.565217  37.782609           40.391304     60.826087  ...   \n",
       "4  32.080000  50.600000  45.480000           26.360000     56.840000  ...   \n",
       "\n",
       "   standing_tackle  sliding_tackle  gk_diving  gk_handling  gk_kicking  \\\n",
       "0        66.000000       67.800000   5.600000    10.600000    9.600000   \n",
       "1        68.787879       71.515152  12.181818     8.666667   14.242424   \n",
       "2        21.115385       21.346154  14.038462    11.807692   17.730769   \n",
       "3        70.652174       68.043478  14.173913    11.173913   22.869565   \n",
       "4        76.040000       74.600000   8.280000     8.320000   24.920000   \n",
       "\n",
       "   gk_positioning  gk_reflexes  preferred_foot  attacking_work_rate  \\\n",
       "0        7.600000     7.600000           right               medium   \n",
       "1       10.363636    12.909091            left               medium   \n",
       "2       10.115385    13.500000           right               medium   \n",
       "3       11.173913    10.173913           right               medium   \n",
       "4       12.840000    11.920000           right               medium   \n",
       "\n",
       "   defensive_work_rate  \n",
       "0               medium  \n",
       "1               medium  \n",
       "2               medium  \n",
       "3               medium  \n",
       "4               medium  \n",
       "\n",
       "[5 rows x 37 columns]"
      ]
     },
     "execution_count": 22,
     "metadata": {},
     "output_type": "execute_result"
    }
   ],
   "source": [
    "merged_player_data.head()"
   ]
  },
  {
   "cell_type": "code",
   "execution_count": 23,
   "id": "4455a64e",
   "metadata": {},
   "outputs": [],
   "source": [
    "from Clean_and_Merge_Target import Clean_and_Merge_Target\n",
    "\n",
    "merged_target_object = Clean_and_Merge_Target()\n",
    "merged_target_data = merged_target_object.fit_transform(player_data)"
   ]
  },
  {
   "cell_type": "code",
   "execution_count": 24,
   "id": "945a34d5",
   "metadata": {},
   "outputs": [
    {
     "data": {
      "text/html": [
       "<div>\n",
       "<style scoped>\n",
       "    .dataframe tbody tr th:only-of-type {\n",
       "        vertical-align: middle;\n",
       "    }\n",
       "\n",
       "    .dataframe tbody tr th {\n",
       "        vertical-align: top;\n",
       "    }\n",
       "\n",
       "    .dataframe thead th {\n",
       "        text-align: right;\n",
       "    }\n",
       "</style>\n",
       "<table border=\"1\" class=\"dataframe\">\n",
       "  <thead>\n",
       "    <tr style=\"text-align: right;\">\n",
       "      <th></th>\n",
       "      <th>overall_rating</th>\n",
       "    </tr>\n",
       "  </thead>\n",
       "  <tbody>\n",
       "    <tr>\n",
       "      <th>0</th>\n",
       "      <td>63.600000</td>\n",
       "    </tr>\n",
       "    <tr>\n",
       "      <th>1</th>\n",
       "      <td>66.969697</td>\n",
       "    </tr>\n",
       "    <tr>\n",
       "      <th>2</th>\n",
       "      <td>67.000000</td>\n",
       "    </tr>\n",
       "    <tr>\n",
       "      <th>3</th>\n",
       "      <td>69.086957</td>\n",
       "    </tr>\n",
       "    <tr>\n",
       "      <th>4</th>\n",
       "      <td>73.240000</td>\n",
       "    </tr>\n",
       "  </tbody>\n",
       "</table>\n",
       "</div>"
      ],
      "text/plain": [
       "   overall_rating\n",
       "0       63.600000\n",
       "1       66.969697\n",
       "2       67.000000\n",
       "3       69.086957\n",
       "4       73.240000"
      ]
     },
     "execution_count": 24,
     "metadata": {},
     "output_type": "execute_result"
    }
   ],
   "source": [
    "merged_target_data.head()"
   ]
  },
  {
   "cell_type": "code",
   "execution_count": 25,
   "id": "43f328ad",
   "metadata": {},
   "outputs": [
    {
     "data": {
      "text/html": [
       "<div>\n",
       "<style scoped>\n",
       "    .dataframe tbody tr th:only-of-type {\n",
       "        vertical-align: middle;\n",
       "    }\n",
       "\n",
       "    .dataframe tbody tr th {\n",
       "        vertical-align: top;\n",
       "    }\n",
       "\n",
       "    .dataframe thead th {\n",
       "        text-align: right;\n",
       "    }\n",
       "</style>\n",
       "<table border=\"1\" class=\"dataframe\">\n",
       "  <thead>\n",
       "    <tr style=\"text-align: right;\">\n",
       "      <th></th>\n",
       "      <th>potential</th>\n",
       "      <th>crossing</th>\n",
       "      <th>finishing</th>\n",
       "      <th>heading_accuracy</th>\n",
       "      <th>short_passing</th>\n",
       "      <th>volleys</th>\n",
       "      <th>dribbling</th>\n",
       "      <th>curve</th>\n",
       "      <th>free_kick_accuracy</th>\n",
       "      <th>long_passing</th>\n",
       "      <th>...</th>\n",
       "      <th>standing_tackle</th>\n",
       "      <th>sliding_tackle</th>\n",
       "      <th>gk_diving</th>\n",
       "      <th>gk_handling</th>\n",
       "      <th>gk_kicking</th>\n",
       "      <th>gk_positioning</th>\n",
       "      <th>gk_reflexes</th>\n",
       "      <th>preferred_foot</th>\n",
       "      <th>attacking_work_rate</th>\n",
       "      <th>defensive_work_rate</th>\n",
       "    </tr>\n",
       "  </thead>\n",
       "  <tbody>\n",
       "    <tr>\n",
       "      <th>0</th>\n",
       "      <td>67.600000</td>\n",
       "      <td>48.600000</td>\n",
       "      <td>43.600000</td>\n",
       "      <td>70.600000</td>\n",
       "      <td>60.600000</td>\n",
       "      <td>43.600000</td>\n",
       "      <td>50.600000</td>\n",
       "      <td>44.600000</td>\n",
       "      <td>38.600000</td>\n",
       "      <td>63.600000</td>\n",
       "      <td>...</td>\n",
       "      <td>66.000000</td>\n",
       "      <td>67.800000</td>\n",
       "      <td>5.600000</td>\n",
       "      <td>10.600000</td>\n",
       "      <td>9.600000</td>\n",
       "      <td>7.600000</td>\n",
       "      <td>7.600000</td>\n",
       "      <td>right</td>\n",
       "      <td>medium</td>\n",
       "      <td>medium</td>\n",
       "    </tr>\n",
       "    <tr>\n",
       "      <th>1</th>\n",
       "      <td>74.484848</td>\n",
       "      <td>70.787879</td>\n",
       "      <td>49.454545</td>\n",
       "      <td>52.939394</td>\n",
       "      <td>62.272727</td>\n",
       "      <td>29.151515</td>\n",
       "      <td>61.090909</td>\n",
       "      <td>61.878788</td>\n",
       "      <td>62.121212</td>\n",
       "      <td>63.242424</td>\n",
       "      <td>...</td>\n",
       "      <td>68.787879</td>\n",
       "      <td>71.515152</td>\n",
       "      <td>12.181818</td>\n",
       "      <td>8.666667</td>\n",
       "      <td>14.242424</td>\n",
       "      <td>10.363636</td>\n",
       "      <td>12.909091</td>\n",
       "      <td>left</td>\n",
       "      <td>medium</td>\n",
       "      <td>medium</td>\n",
       "    </tr>\n",
       "    <tr>\n",
       "      <th>2</th>\n",
       "      <td>74.192308</td>\n",
       "      <td>68.115385</td>\n",
       "      <td>57.923077</td>\n",
       "      <td>58.692308</td>\n",
       "      <td>65.115385</td>\n",
       "      <td>54.269231</td>\n",
       "      <td>69.038462</td>\n",
       "      <td>60.192308</td>\n",
       "      <td>55.615385</td>\n",
       "      <td>60.461538</td>\n",
       "      <td>...</td>\n",
       "      <td>21.115385</td>\n",
       "      <td>21.346154</td>\n",
       "      <td>14.038462</td>\n",
       "      <td>11.807692</td>\n",
       "      <td>17.730769</td>\n",
       "      <td>10.115385</td>\n",
       "      <td>13.500000</td>\n",
       "      <td>right</td>\n",
       "      <td>medium</td>\n",
       "      <td>medium</td>\n",
       "    </tr>\n",
       "    <tr>\n",
       "      <th>3</th>\n",
       "      <td>70.782609</td>\n",
       "      <td>57.217391</td>\n",
       "      <td>26.260870</td>\n",
       "      <td>69.260870</td>\n",
       "      <td>64.695652</td>\n",
       "      <td>47.782609</td>\n",
       "      <td>55.565217</td>\n",
       "      <td>37.782609</td>\n",
       "      <td>40.391304</td>\n",
       "      <td>60.826087</td>\n",
       "      <td>...</td>\n",
       "      <td>70.652174</td>\n",
       "      <td>68.043478</td>\n",
       "      <td>14.173913</td>\n",
       "      <td>11.173913</td>\n",
       "      <td>22.869565</td>\n",
       "      <td>11.173913</td>\n",
       "      <td>10.173913</td>\n",
       "      <td>right</td>\n",
       "      <td>medium</td>\n",
       "      <td>medium</td>\n",
       "    </tr>\n",
       "    <tr>\n",
       "      <th>4</th>\n",
       "      <td>74.680000</td>\n",
       "      <td>45.080000</td>\n",
       "      <td>38.840000</td>\n",
       "      <td>73.040000</td>\n",
       "      <td>64.760000</td>\n",
       "      <td>32.080000</td>\n",
       "      <td>50.600000</td>\n",
       "      <td>45.480000</td>\n",
       "      <td>26.360000</td>\n",
       "      <td>56.840000</td>\n",
       "      <td>...</td>\n",
       "      <td>76.040000</td>\n",
       "      <td>74.600000</td>\n",
       "      <td>8.280000</td>\n",
       "      <td>8.320000</td>\n",
       "      <td>24.920000</td>\n",
       "      <td>12.840000</td>\n",
       "      <td>11.920000</td>\n",
       "      <td>right</td>\n",
       "      <td>medium</td>\n",
       "      <td>medium</td>\n",
       "    </tr>\n",
       "    <tr>\n",
       "      <th>...</th>\n",
       "      <td>...</td>\n",
       "      <td>...</td>\n",
       "      <td>...</td>\n",
       "      <td>...</td>\n",
       "      <td>...</td>\n",
       "      <td>...</td>\n",
       "      <td>...</td>\n",
       "      <td>...</td>\n",
       "      <td>...</td>\n",
       "      <td>...</td>\n",
       "      <td>...</td>\n",
       "      <td>...</td>\n",
       "      <td>...</td>\n",
       "      <td>...</td>\n",
       "      <td>...</td>\n",
       "      <td>...</td>\n",
       "      <td>...</td>\n",
       "      <td>...</td>\n",
       "      <td>...</td>\n",
       "      <td>...</td>\n",
       "      <td>...</td>\n",
       "    </tr>\n",
       "    <tr>\n",
       "      <th>11055</th>\n",
       "      <td>75.461538</td>\n",
       "      <td>42.000000</td>\n",
       "      <td>27.000000</td>\n",
       "      <td>75.153846</td>\n",
       "      <td>70.000000</td>\n",
       "      <td>30.000000</td>\n",
       "      <td>56.384615</td>\n",
       "      <td>49.000000</td>\n",
       "      <td>35.692308</td>\n",
       "      <td>54.538462</td>\n",
       "      <td>...</td>\n",
       "      <td>76.307692</td>\n",
       "      <td>72.692308</td>\n",
       "      <td>12.846154</td>\n",
       "      <td>12.769231</td>\n",
       "      <td>25.461538</td>\n",
       "      <td>11.384615</td>\n",
       "      <td>13.615385</td>\n",
       "      <td>right</td>\n",
       "      <td>low</td>\n",
       "      <td>medium</td>\n",
       "    </tr>\n",
       "    <tr>\n",
       "      <th>11056</th>\n",
       "      <td>71.625000</td>\n",
       "      <td>67.250000</td>\n",
       "      <td>46.750000</td>\n",
       "      <td>60.312500</td>\n",
       "      <td>63.125000</td>\n",
       "      <td>54.562500</td>\n",
       "      <td>61.187500</td>\n",
       "      <td>63.812500</td>\n",
       "      <td>61.750000</td>\n",
       "      <td>62.312500</td>\n",
       "      <td>...</td>\n",
       "      <td>65.250000</td>\n",
       "      <td>63.875000</td>\n",
       "      <td>9.000000</td>\n",
       "      <td>8.000000</td>\n",
       "      <td>5.000000</td>\n",
       "      <td>5.000000</td>\n",
       "      <td>8.000000</td>\n",
       "      <td>left</td>\n",
       "      <td>medium</td>\n",
       "      <td>medium</td>\n",
       "    </tr>\n",
       "    <tr>\n",
       "      <th>11057</th>\n",
       "      <td>72.857143</td>\n",
       "      <td>63.142857</td>\n",
       "      <td>44.571429</td>\n",
       "      <td>59.857143</td>\n",
       "      <td>66.857143</td>\n",
       "      <td>57.000000</td>\n",
       "      <td>66.857143</td>\n",
       "      <td>60.000000</td>\n",
       "      <td>52.571429</td>\n",
       "      <td>58.285714</td>\n",
       "      <td>...</td>\n",
       "      <td>64.285714</td>\n",
       "      <td>59.000000</td>\n",
       "      <td>7.142857</td>\n",
       "      <td>18.714286</td>\n",
       "      <td>42.428571</td>\n",
       "      <td>16.714286</td>\n",
       "      <td>16.714286</td>\n",
       "      <td>left</td>\n",
       "      <td>NaN</td>\n",
       "      <td>NaN</td>\n",
       "    </tr>\n",
       "    <tr>\n",
       "      <th>11058</th>\n",
       "      <td>78.125000</td>\n",
       "      <td>46.750000</td>\n",
       "      <td>43.000000</td>\n",
       "      <td>79.000000</td>\n",
       "      <td>58.875000</td>\n",
       "      <td>59.000000</td>\n",
       "      <td>36.000000</td>\n",
       "      <td>29.000000</td>\n",
       "      <td>41.375000</td>\n",
       "      <td>50.625000</td>\n",
       "      <td>...</td>\n",
       "      <td>73.250000</td>\n",
       "      <td>65.000000</td>\n",
       "      <td>14.000000</td>\n",
       "      <td>18.500000</td>\n",
       "      <td>41.625000</td>\n",
       "      <td>19.000000</td>\n",
       "      <td>20.000000</td>\n",
       "      <td>right</td>\n",
       "      <td>NaN</td>\n",
       "      <td>NaN</td>\n",
       "    </tr>\n",
       "    <tr>\n",
       "      <th>11059</th>\n",
       "      <td>81.700000</td>\n",
       "      <td>78.200000</td>\n",
       "      <td>72.600000</td>\n",
       "      <td>57.400000</td>\n",
       "      <td>85.500000</td>\n",
       "      <td>77.000000</td>\n",
       "      <td>83.000000</td>\n",
       "      <td>86.000000</td>\n",
       "      <td>74.200000</td>\n",
       "      <td>79.000000</td>\n",
       "      <td>...</td>\n",
       "      <td>31.200000</td>\n",
       "      <td>30.000000</td>\n",
       "      <td>9.000000</td>\n",
       "      <td>15.400000</td>\n",
       "      <td>42.100000</td>\n",
       "      <td>16.200000</td>\n",
       "      <td>12.000000</td>\n",
       "      <td>right</td>\n",
       "      <td>medium</td>\n",
       "      <td>low</td>\n",
       "    </tr>\n",
       "  </tbody>\n",
       "</table>\n",
       "<p>11060 rows × 37 columns</p>\n",
       "</div>"
      ],
      "text/plain": [
       "       potential   crossing  finishing  heading_accuracy  short_passing  \\\n",
       "0      67.600000  48.600000  43.600000         70.600000      60.600000   \n",
       "1      74.484848  70.787879  49.454545         52.939394      62.272727   \n",
       "2      74.192308  68.115385  57.923077         58.692308      65.115385   \n",
       "3      70.782609  57.217391  26.260870         69.260870      64.695652   \n",
       "4      74.680000  45.080000  38.840000         73.040000      64.760000   \n",
       "...          ...        ...        ...               ...            ...   \n",
       "11055  75.461538  42.000000  27.000000         75.153846      70.000000   \n",
       "11056  71.625000  67.250000  46.750000         60.312500      63.125000   \n",
       "11057  72.857143  63.142857  44.571429         59.857143      66.857143   \n",
       "11058  78.125000  46.750000  43.000000         79.000000      58.875000   \n",
       "11059  81.700000  78.200000  72.600000         57.400000      85.500000   \n",
       "\n",
       "         volleys  dribbling      curve  free_kick_accuracy  long_passing  ...  \\\n",
       "0      43.600000  50.600000  44.600000           38.600000     63.600000  ...   \n",
       "1      29.151515  61.090909  61.878788           62.121212     63.242424  ...   \n",
       "2      54.269231  69.038462  60.192308           55.615385     60.461538  ...   \n",
       "3      47.782609  55.565217  37.782609           40.391304     60.826087  ...   \n",
       "4      32.080000  50.600000  45.480000           26.360000     56.840000  ...   \n",
       "...          ...        ...        ...                 ...           ...  ...   \n",
       "11055  30.000000  56.384615  49.000000           35.692308     54.538462  ...   \n",
       "11056  54.562500  61.187500  63.812500           61.750000     62.312500  ...   \n",
       "11057  57.000000  66.857143  60.000000           52.571429     58.285714  ...   \n",
       "11058  59.000000  36.000000  29.000000           41.375000     50.625000  ...   \n",
       "11059  77.000000  83.000000  86.000000           74.200000     79.000000  ...   \n",
       "\n",
       "       standing_tackle  sliding_tackle  gk_diving  gk_handling  gk_kicking  \\\n",
       "0            66.000000       67.800000   5.600000    10.600000    9.600000   \n",
       "1            68.787879       71.515152  12.181818     8.666667   14.242424   \n",
       "2            21.115385       21.346154  14.038462    11.807692   17.730769   \n",
       "3            70.652174       68.043478  14.173913    11.173913   22.869565   \n",
       "4            76.040000       74.600000   8.280000     8.320000   24.920000   \n",
       "...                ...             ...        ...          ...         ...   \n",
       "11055        76.307692       72.692308  12.846154    12.769231   25.461538   \n",
       "11056        65.250000       63.875000   9.000000     8.000000    5.000000   \n",
       "11057        64.285714       59.000000   7.142857    18.714286   42.428571   \n",
       "11058        73.250000       65.000000  14.000000    18.500000   41.625000   \n",
       "11059        31.200000       30.000000   9.000000    15.400000   42.100000   \n",
       "\n",
       "       gk_positioning  gk_reflexes  preferred_foot  attacking_work_rate  \\\n",
       "0            7.600000     7.600000           right               medium   \n",
       "1           10.363636    12.909091            left               medium   \n",
       "2           10.115385    13.500000           right               medium   \n",
       "3           11.173913    10.173913           right               medium   \n",
       "4           12.840000    11.920000           right               medium   \n",
       "...               ...          ...             ...                  ...   \n",
       "11055       11.384615    13.615385           right                  low   \n",
       "11056        5.000000     8.000000            left               medium   \n",
       "11057       16.714286    16.714286            left                  NaN   \n",
       "11058       19.000000    20.000000           right                  NaN   \n",
       "11059       16.200000    12.000000           right               medium   \n",
       "\n",
       "       defensive_work_rate  \n",
       "0                   medium  \n",
       "1                   medium  \n",
       "2                   medium  \n",
       "3                   medium  \n",
       "4                   medium  \n",
       "...                    ...  \n",
       "11055               medium  \n",
       "11056               medium  \n",
       "11057                  NaN  \n",
       "11058                  NaN  \n",
       "11059                  low  \n",
       "\n",
       "[11060 rows x 37 columns]"
      ]
     },
     "execution_count": 25,
     "metadata": {},
     "output_type": "execute_result"
    }
   ],
   "source": [
    "merged_player_data"
   ]
  },
  {
   "cell_type": "code",
   "execution_count": 26,
   "id": "354e2f41",
   "metadata": {},
   "outputs": [
    {
     "data": {
      "text/plain": [
       "(11060, 37)"
      ]
     },
     "execution_count": 26,
     "metadata": {},
     "output_type": "execute_result"
    }
   ],
   "source": [
    "merged_player_data.shape"
   ]
  },
  {
   "cell_type": "code",
   "execution_count": 27,
   "id": "b0bdb623",
   "metadata": {},
   "outputs": [
    {
     "data": {
      "text/plain": [
       "(11060, 1)"
      ]
     },
     "execution_count": 27,
     "metadata": {},
     "output_type": "execute_result"
    }
   ],
   "source": [
    "merged_target_data.shape"
   ]
  },
  {
   "cell_type": "code",
   "execution_count": 28,
   "id": "09e98903",
   "metadata": {},
   "outputs": [],
   "source": [
    "X_train, X_test, y_train, y_test = train_test_split(merged_player_data, \n",
    "                                                    merged_target_data, \n",
    "                                                    test_size=0.20, \n",
    "                                                    random_state=101)"
   ]
  },
  {
   "cell_type": "code",
   "execution_count": 29,
   "id": "547c07a7",
   "metadata": {},
   "outputs": [],
   "source": [
    "from sklearn.pipeline import Pipeline\n",
    "from sklearn.compose import ColumnTransformer\n",
    "from sklearn.preprocessing import StandardScaler\n",
    "from sklearn.preprocessing import OneHotEncoder\n",
    "from sklearn.impute import SimpleImputer"
   ]
  },
  {
   "cell_type": "code",
   "execution_count": 30,
   "id": "b36000d5",
   "metadata": {},
   "outputs": [],
   "source": [
    "num_pipeline = Pipeline([\n",
    "    ('num_imputer', SimpleImputer(strategy='mean')), \n",
    "    ('num_scaler', StandardScaler())\n",
    "])\n",
    "\n",
    "cat_pipeline = Pipeline([\n",
    "    ('cat_imputer', SimpleImputer(strategy='most_frequent')), \n",
    "    ('cat_encoder', OneHotEncoder(handle_unknown='ignore'))\n",
    "])\n",
    "\n",
    "full_transformer = ColumnTransformer([\n",
    "    ('num_transformer', num_pipeline, numercial_attributes),\n",
    "    ('cat_transformer', cat_pipeline, categorical_attributes)\n",
    "])\n",
    "\n",
    "target_pipeline = Pipeline([\n",
    "    ('num_imputer', SimpleImputer(strategy='mean', add_indicator=True)), \n",
    "    ('num_scaler', StandardScaler())\n",
    "])"
   ]
  },
  {
   "cell_type": "code",
   "execution_count": 31,
   "id": "c005eab9",
   "metadata": {},
   "outputs": [
    {
     "data": {
      "text/plain": [
       "array([[ 0.58197118,  0.65919831,  1.21870086, ...,  0.        ,\n",
       "         1.        ,  0.        ],\n",
       "       [ 1.75999394,  0.5594177 ,  1.61461829, ...,  0.        ,\n",
       "         1.        ,  0.        ],\n",
       "       [-0.58987965, -0.87256068, -1.07515648, ...,  0.        ,\n",
       "         0.        ,  1.        ],\n",
       "       ...,\n",
       "       [ 0.61114926, -0.49402403, -0.94457582, ...,  0.        ,\n",
       "         0.        ,  1.        ],\n",
       "       [ 0.77446541, -0.15817229, -0.54870336, ...,  0.        ,\n",
       "         0.        ,  1.        ],\n",
       "       [ 0.91323318,  0.97212564,  0.74132583, ...,  0.        ,\n",
       "         1.        ,  0.        ]])"
      ]
     },
     "execution_count": 31,
     "metadata": {},
     "output_type": "execute_result"
    }
   ],
   "source": [
    "full_transformed_data = full_transformer.fit_transform(X_train)\n",
    "full_transformed_data"
   ]
  },
  {
   "cell_type": "code",
   "execution_count": 32,
   "id": "bc1059c9",
   "metadata": {},
   "outputs": [
    {
     "data": {
      "text/plain": [
       "array([[ 0.81114056],\n",
       "       [ 1.00651404],\n",
       "       [-0.11224976],\n",
       "       ...,\n",
       "       [ 1.23316027],\n",
       "       [ 0.31232155],\n",
       "       [ 0.88329677]])"
      ]
     },
     "execution_count": 32,
     "metadata": {},
     "output_type": "execute_result"
    }
   ],
   "source": [
    "full_transformed_target = target_pipeline.fit_transform(pd.DataFrame(y_train))\n",
    "full_transformed_target"
   ]
  },
  {
   "cell_type": "code",
   "execution_count": 33,
   "id": "4f19589e",
   "metadata": {},
   "outputs": [],
   "source": [
    "import joblib\n",
    "import os"
   ]
  },
  {
   "cell_type": "code",
   "execution_count": 34,
   "id": "50ae1f5e",
   "metadata": {},
   "outputs": [
    {
     "data": {
      "text/plain": [
       "['pipelines\\\\23_07_2022-01_22_43_target_pipeline.pkl']"
      ]
     },
     "execution_count": 34,
     "metadata": {},
     "output_type": "execute_result"
    }
   ],
   "source": [
    "dir_name = 'pipelines'\n",
    "if not os.path.isdir(dir_name):\n",
    "    os.makedirs(dir_name)\n",
    "    \n",
    "    \n",
    "joblib.dump(custom_attribute_object, os.path.join(dir_name, generate_file_name('custom_attribute_object.pkl')))\n",
    "joblib.dump(merged_target_object, os.path.join(dir_name, generate_file_name('merged_target_object.pkl')))    \n",
    "joblib.dump(full_transformer, os.path.join(dir_name, generate_file_name('full_transformer.pkl')))\n",
    "joblib.dump(target_pipeline, os.path.join(dir_name, generate_file_name('target_pipeline.pkl')))"
   ]
  },
  {
   "cell_type": "code",
   "execution_count": 35,
   "id": "4b049cd2",
   "metadata": {},
   "outputs": [
    {
     "data": {
      "text/plain": [
       "(8848, 43)"
      ]
     },
     "execution_count": 35,
     "metadata": {},
     "output_type": "execute_result"
    }
   ],
   "source": [
    "full_transformed_data.shape"
   ]
  },
  {
   "cell_type": "code",
   "execution_count": 36,
   "id": "4609a32c",
   "metadata": {},
   "outputs": [
    {
     "data": {
      "text/plain": [
       "(8848, 1)"
      ]
     },
     "execution_count": 36,
     "metadata": {},
     "output_type": "execute_result"
    }
   ],
   "source": [
    "full_transformed_target.shape"
   ]
  },
  {
   "cell_type": "code",
   "execution_count": 37,
   "id": "f040c783",
   "metadata": {},
   "outputs": [],
   "source": [
    "from sklearn.model_selection import cross_val_score"
   ]
  },
  {
   "cell_type": "code",
   "execution_count": 38,
   "id": "6197188d",
   "metadata": {},
   "outputs": [
    {
     "name": "stdout",
     "output_type": "stream",
     "text": [
      "Wall time: 1.66 s\n"
     ]
    },
    {
     "data": {
      "text/plain": [
       "array([0.86573361, 0.87632957, 0.84637005, 0.8651028 , 0.86442344,\n",
       "       0.87188745, 0.86211876, 0.87657164, 0.86725632, 0.86585374])"
      ]
     },
     "execution_count": 38,
     "metadata": {},
     "output_type": "execute_result"
    }
   ],
   "source": [
    "%%time\n",
    "\n",
    "lin_reg = LinearRegression()\n",
    "\n",
    "cross_val_score(estimator=lin_reg, X=full_transformed_data,\n",
    "               y=full_transformed_target, cv=10, n_jobs=-1)"
   ]
  },
  {
   "cell_type": "code",
   "execution_count": 39,
   "id": "5f90c049",
   "metadata": {},
   "outputs": [
    {
     "name": "stdout",
     "output_type": "stream",
     "text": [
      "Wall time: 1.09 s\n"
     ]
    },
    {
     "data": {
      "text/plain": [
       "array([0.87971283, 0.88007217, 0.85349979, 0.85793923, 0.86850939,\n",
       "       0.87250482, 0.87757564, 0.86561349, 0.8750738 , 0.85756846])"
      ]
     },
     "execution_count": 39,
     "metadata": {},
     "output_type": "execute_result"
    }
   ],
   "source": [
    "%%time\n",
    "\n",
    "tree_reg = DecisionTreeRegressor()\n",
    "\n",
    "cross_val_score(estimator=tree_reg, X=full_transformed_data,\n",
    "               y=full_transformed_target, cv=10, n_jobs=-1)"
   ]
  },
  {
   "cell_type": "code",
   "execution_count": 43,
   "id": "e488ac08",
   "metadata": {},
   "outputs": [
    {
     "name": "stdout",
     "output_type": "stream",
     "text": [
      "Wall time: 10.1 s\n"
     ]
    },
    {
     "data": {
      "text/plain": [
       "array([0.97685937, 0.97802457, 0.97273733, 0.97484917, 0.97245267,\n",
       "       0.97649227, 0.97955977, 0.97637403, 0.97869964, 0.97274002])"
      ]
     },
     "execution_count": 43,
     "metadata": {},
     "output_type": "execute_result"
    }
   ],
   "source": [
    "%%time\n",
    "\n",
    "from sklearn.svm import SVR\n",
    "\n",
    "svm_reg = SVR()\n",
    "\n",
    "cross_val_score(estimator=svm_reg, X=full_transformed_data,\n",
    "               y=full_transformed_target, cv=10, n_jobs=-1)"
   ]
  },
  {
   "cell_type": "code",
   "execution_count": 45,
   "id": "d45397b2",
   "metadata": {},
   "outputs": [
    {
     "name": "stdout",
     "output_type": "stream",
     "text": [
      "Wall time: 182 ms\n"
     ]
    },
    {
     "name": "stderr",
     "output_type": "stream",
     "text": [
      "C:\\Users\\HP\\anaconda3\\lib\\site-packages\\sklearn\\model_selection\\_validation.py:372: FitFailedWarning: \n",
      "10 fits failed out of a total of 10.\n",
      "The score on these train-test partitions for these parameters will be set to nan.\n",
      "If these failures are not expected, you can try to debug them by setting error_score='raise'.\n",
      "\n",
      "Below are more details about the failures:\n",
      "--------------------------------------------------------------------------------\n",
      "10 fits failed with the following error:\n",
      "Traceback (most recent call last):\n",
      "  File \"C:\\Users\\HP\\anaconda3\\lib\\site-packages\\sklearn\\model_selection\\_validation.py\", line 680, in _fit_and_score\n",
      "    estimator.fit(X_train, y_train, **fit_params)\n",
      "  File \"C:\\Users\\HP\\anaconda3\\lib\\site-packages\\xgboost\\core.py\", line 532, in inner_f\n",
      "    return f(**kwargs)\n",
      "  File \"C:\\Users\\HP\\anaconda3\\lib\\site-packages\\xgboost\\sklearn.py\", line 961, in fit\n",
      "    self._Booster = train(\n",
      "  File \"C:\\Users\\HP\\anaconda3\\lib\\site-packages\\xgboost\\core.py\", line 532, in inner_f\n",
      "    return f(**kwargs)\n",
      "  File \"C:\\Users\\HP\\anaconda3\\lib\\site-packages\\xgboost\\training.py\", line 181, in train\n",
      "    bst.update(dtrain, i, obj)\n",
      "  File \"C:\\Users\\HP\\anaconda3\\lib\\site-packages\\xgboost\\core.py\", line 1733, in update\n",
      "    _check_call(_LIB.XGBoosterUpdateOneIter(self.handle,\n",
      "  File \"C:\\Users\\HP\\anaconda3\\lib\\site-packages\\xgboost\\core.py\", line 203, in _check_call\n",
      "    raise XGBoostError(py_str(_LIB.XGBGetLastError()))\n",
      "xgboost.core.XGBoostError: [01:32:46] C:/Users/Administrator/workspace/xgboost-win64_release_1.6.0/src/gbm/gbtree.cc:540: Check failed: common::AllVisibleGPUs() >= 1 (0 vs. 1) : No visible GPU is found for XGBoost.\n",
      "\n",
      "  warnings.warn(some_fits_failed_message, FitFailedWarning)\n"
     ]
    },
    {
     "data": {
      "text/plain": [
       "array([nan, nan, nan, nan, nan, nan, nan, nan, nan, nan])"
      ]
     },
     "execution_count": 45,
     "metadata": {},
     "output_type": "execute_result"
    }
   ],
   "source": [
    "%%time\n",
    "\n",
    "from xgboost import XGBRegressor\n",
    "\n",
    "xgb_reg = XGBRegressor(gpu_id=0, predictor='gpu_predictor')\n",
    "\n",
    "cross_val_score(estimator=xgb_reg, X=full_transformed_data,\n",
    "               y=full_transformed_target, cv=10, n_jobs=-1)"
   ]
  },
  {
   "cell_type": "code",
   "execution_count": 46,
   "id": "8d7250c6",
   "metadata": {},
   "outputs": [
    {
     "data": {
      "text/plain": [
       "array([[ 1.0083062 ,  0.72221711,  1.49367349, ...,  0.        ,\n",
       "         1.        ,  0.        ],\n",
       "       [-1.2213958 ,  0.13374578,  0.28608535, ...,  0.        ,\n",
       "         0.        ,  1.        ],\n",
       "       [ 1.91008926,  1.19957847,  0.04166657, ...,  0.        ,\n",
       "         0.        ,  1.        ],\n",
       "       ...,\n",
       "       [-0.96304828, -0.44522506,  0.64641407, ...,  0.        ,\n",
       "         0.        ,  1.        ],\n",
       "       [ 0.5439789 ,  0.71530132, -1.33539389, ...,  0.        ,\n",
       "         0.        ,  1.        ],\n",
       "       [ 0.05674455, -2.33776321, -1.88755753, ...,  0.        ,\n",
       "         0.        ,  1.        ]])"
      ]
     },
     "execution_count": 46,
     "metadata": {},
     "output_type": "execute_result"
    }
   ],
   "source": [
    "test_data = full_transformer.transform(X_test)\n",
    "test_data"
   ]
  },
  {
   "cell_type": "code",
   "execution_count": 47,
   "id": "3f2c292e",
   "metadata": {},
   "outputs": [],
   "source": [
    "best_model_details = {}"
   ]
  },
  {
   "cell_type": "code",
   "execution_count": 48,
   "id": "2e17fdea",
   "metadata": {},
   "outputs": [
    {
     "name": "stdout",
     "output_type": "stream",
     "text": [
      "Error :  0.3578953229409116\n"
     ]
    }
   ],
   "source": [
    "lin_reg.fit(X=full_transformed_data, y=full_transformed_target)\n",
    "\n",
    "y_pred = lin_reg.predict(test_data)\n",
    "y_pred = y_pred.reshape(-1, 1)\n",
    "\n",
    "test_target = target_pipeline.transform(pd.DataFrame(y_test))\n",
    "\n",
    "error = sqrt(mean_squared_error(y_pred=y_pred, y_true=test_target))\n",
    "print('Error : ', error)\n",
    "\n",
    "best_model_details[lin_reg] = error"
   ]
  },
  {
   "cell_type": "code",
   "execution_count": 49,
   "id": "1798ec3a",
   "metadata": {},
   "outputs": [
    {
     "name": "stdout",
     "output_type": "stream",
     "text": [
      "Error :  0.36049752828612514\n"
     ]
    }
   ],
   "source": [
    "tree_reg.fit(X=full_transformed_data, y=full_transformed_target)\n",
    "\n",
    "y_pred = tree_reg.predict(test_data)\n",
    "y_pred = y_pred.reshape(-1, 1)\n",
    "\n",
    "test_target = target_pipeline.transform(pd.DataFrame(y_test))\n",
    "\n",
    "error = sqrt(mean_squared_error(y_pred=y_pred, y_true=test_target))\n",
    "print('Error : ', error)\n",
    "\n",
    "best_model_details[tree_reg] = error"
   ]
  },
  {
   "cell_type": "code",
   "execution_count": 50,
   "id": "dfa89ec4",
   "metadata": {},
   "outputs": [
    {
     "name": "stdout",
     "output_type": "stream",
     "text": [
      "Error :  0.14702290899009152\n"
     ]
    }
   ],
   "source": [
    "svm_reg.fit(X=full_transformed_data, y=full_transformed_target.ravel())\n",
    "\n",
    "y_pred = svm_reg.predict(test_data)\n",
    "y_pred = y_pred.reshape(-1, 1)\n",
    "\n",
    "test_target = target_pipeline.transform(pd.DataFrame(y_test))\n",
    "\n",
    "error = sqrt(mean_squared_error(y_pred=y_pred, y_true=test_target))\n",
    "print('Error : ', error)\n",
    "\n",
    "best_model_details[svm_reg] = error"
   ]
  },
  {
   "cell_type": "code",
   "execution_count": 51,
   "id": "bfb5b2a5",
   "metadata": {},
   "outputs": [
    {
     "data": {
      "text/plain": [
       "array([ 0.81114056,  1.00651404, -0.11224976, ...,  1.23316027,\n",
       "        0.31232155,  0.88329677])"
      ]
     },
     "execution_count": 51,
     "metadata": {},
     "output_type": "execute_result"
    }
   ],
   "source": [
    "full_transformed_target.ravel()"
   ]
  },
  {
   "cell_type": "code",
   "execution_count": 52,
   "id": "6fe1f88a",
   "metadata": {},
   "outputs": [
    {
     "data": {
      "text/plain": [
       "{LinearRegression(): 0.3578953229409116,\n",
       " DecisionTreeRegressor(): 0.36049752828612514,\n",
       " SVR(): 0.14702290899009152}"
      ]
     },
     "execution_count": 52,
     "metadata": {},
     "output_type": "execute_result"
    }
   ],
   "source": [
    "best_model_details"
   ]
  },
  {
   "cell_type": "code",
   "execution_count": 53,
   "id": "d12823f2",
   "metadata": {},
   "outputs": [],
   "source": [
    "min_value = list(best_model_details.values())[0]\n",
    "my_model = ''"
   ]
  },
  {
   "cell_type": "code",
   "execution_count": 54,
   "id": "079487ba",
   "metadata": {},
   "outputs": [
    {
     "name": "stdout",
     "output_type": "stream",
     "text": [
      "Best performing model : SVR() \n",
      "Error : 0.14702290899009152\n"
     ]
    }
   ],
   "source": [
    "for key, value in best_model_details.items():\n",
    "    if value < min_value:\n",
    "        min_value = value\n",
    "        my_model = key\n",
    "        \n",
    "print('Best performing model : {} \\nError : {}'.format(my_model, min_value))"
   ]
  },
  {
   "cell_type": "code",
   "execution_count": 55,
   "id": "ef369cd4",
   "metadata": {},
   "outputs": [
    {
     "data": {
      "text/plain": [
       "['models\\\\23_07_2022-01_37_06_best_model.pkl']"
      ]
     },
     "execution_count": 55,
     "metadata": {},
     "output_type": "execute_result"
    }
   ],
   "source": [
    "dir_name = 'models'\n",
    "if not os.path.isdir(dir_name):\n",
    "    os.makedirs(dir_name)\n",
    "    \n",
    "joblib.dump(my_model, os.path.join(dir_name, generate_file_name('best_model.pkl')))"
   ]
  },
  {
   "cell_type": "code",
   "execution_count": null,
   "id": "6903254a",
   "metadata": {},
   "outputs": [],
   "source": []
  }
 ],
 "metadata": {
  "kernelspec": {
   "display_name": "Python 3",
   "language": "python",
   "name": "python3"
  },
  "language_info": {
   "codemirror_mode": {
    "name": "ipython",
    "version": 3
   },
   "file_extension": ".py",
   "mimetype": "text/x-python",
   "name": "python",
   "nbconvert_exporter": "python",
   "pygments_lexer": "ipython3",
   "version": "3.8.8"
  }
 },
 "nbformat": 4,
 "nbformat_minor": 5
}
